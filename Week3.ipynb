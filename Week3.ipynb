{
 "cells": [
  {
   "cell_type": "markdown",
   "metadata": {},
   "source": [
    "Accessing index and element using 'enumerate()'"
   ]
  },
  {
   "cell_type": "code",
   "execution_count": null,
   "metadata": {},
   "outputs": [],
   "source": [
    "# Accessing index and element using enumerate()\n",
    "\n",
    "fruits = [\"apple\", \"banana\", \"cherry\"]  \n",
    "\n",
    "for index, fruit in enumerate(fruits):\n",
    "    print(f\"Index: {index}, Fruit: {fruit}\")\n",
    "    \n",
    "     \n",
    "dogs = [\"george\", \"roofus\", \"toby\"]\n",
    "\n",
    "for floop, dog in enumerate(dogs):\n",
    "    print (f\"num {floop}, Dog: {dog}\")"
   ]
  },
  {
   "cell_type": "code",
   "execution_count": null,
   "metadata": {},
   "outputs": [],
   "source": [
    "for number in range(1, 6):\n",
    "    print(number)"
   ]
  },
  {
   "cell_type": "code",
   "execution_count": null,
   "metadata": {},
   "outputs": [],
   "source": [
    "my_list = [\"dog\", \"cat\", \"sillyboy\"]\n",
    "print(my_list)\n",
    "my_list.append(\"frog\")\n",
    "print(my_list)\n",
    "\n",
    "my_tupple = (\"dog\", \"cat\", \"sillyboy\")\n",
    "print(my_tupple)\n",
    "my_tupple =(\"dog\", \"cat\", \"sillyboy\", \"frog\")\n",
    "print(my_tupple)\n"
   ]
  },
  {
   "cell_type": "code",
   "execution_count": null,
   "metadata": {},
   "outputs": [],
   "source": [
    "fruits = [\"apple\", \"banana\", \"cherry\", \"date\", \"elderberry\"]  \n",
    "\n",
    "for fruit in fruits:\n",
    "    if fruit == \"elderberry\":\n",
    "        break\n",
    "    print(fruit)"
   ]
  },
  {
   "cell_type": "code",
   "execution_count": null,
   "metadata": {},
   "outputs": [],
   "source": [
    "numbers = [1, 2, 3, 4, 5]  \n",
    "\n",
    "for number in numbers:\n",
    "    if number % 2 == 0:\n",
    "        continue \n",
    "    print(number)"
   ]
  },
  {
   "cell_type": "markdown",
   "metadata": {},
   "source": [
    "nested loops"
   ]
  },
  {
   "cell_type": "code",
   "execution_count": null,
   "metadata": {},
   "outputs": [],
   "source": [
    "#Outer loop\n",
    "for i in range(1, 6): \n",
    "\n",
    "    #inner loop\n",
    "    for j in range(1, 6):\n",
    "        print(i * j, end=\"\\t\")\n",
    "    print() "
   ]
  },
  {
   "cell_type": "code",
   "execution_count": null,
   "metadata": {},
   "outputs": [],
   "source": [
    "for a in range (1, 10):\n",
    "    for b in range(1, 4):\n",
    "        print(a * b, end=\"\\t\")\n",
    "    print()\n"
   ]
  },
  {
   "cell_type": "code",
   "execution_count": null,
   "metadata": {},
   "outputs": [],
   "source": [
    "words = ['the', 'quick', 'brown', 'dog', 'jumps', 'over', 'the', 'lazy', 'fox']\n",
    "\n",
    "# Example of nested loops \n",
    "for word in words:\n",
    "    for i, letter in enumerate(word):\n",
    "        print(i, ':', letter)\n",
    "    print()"
   ]
  },
  {
   "cell_type": "code",
   "execution_count": null,
   "metadata": {},
   "outputs": [],
   "source": [
    "names = [\"Tom\", \"jerry\", \"phil\"]\n",
    "\n",
    "for name in names:\n",
    "    for num, letter in enumerate(name):\n",
    "        print (num, \":\", letter)"
   ]
  },
  {
   "cell_type": "code",
   "execution_count": 29,
   "metadata": {},
   "outputs": [
    {
     "name": "stdout",
     "output_type": "stream",
     "text": [
      "grep contains a vowel.\n"
     ]
    }
   ],
   "source": [
    "vowels = 'aeiou'\n",
    "word = input('Enter a word: ')\n",
    "\n",
    "for letter in word:\n",
    "    if letter in vowels:\n",
    "        print(word, 'contains a vowel.')\n",
    "        break\n",
    "else:\n",
    "    print(word, 'contains no vowels.')"
   ]
  },
  {
   "cell_type": "code",
   "execution_count": 30,
   "metadata": {},
   "outputs": [
    {
     "name": "stdout",
     "output_type": "stream",
     "text": [
      "thought\n"
     ]
    }
   ],
   "source": [
    "variable: str = \"thought\"\n",
    "print(variable)"
   ]
  }
 ],
 "metadata": {
  "kernelspec": {
   "display_name": ".venv",
   "language": "python",
   "name": "python3"
  },
  "language_info": {
   "codemirror_mode": {
    "name": "ipython",
    "version": 3
   },
   "file_extension": ".py",
   "mimetype": "text/x-python",
   "name": "python",
   "nbconvert_exporter": "python",
   "pygments_lexer": "ipython3",
   "version": "3.12.6"
  }
 },
 "nbformat": 4,
 "nbformat_minor": 2
}
